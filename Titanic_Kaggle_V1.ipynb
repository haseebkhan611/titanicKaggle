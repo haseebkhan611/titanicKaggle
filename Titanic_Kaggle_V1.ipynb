{
  "nbformat": 4,
  "nbformat_minor": 0,
  "metadata": {
    "colab": {
      "name": "Titanic Kaggle V1",
      "provenance": []
    },
    "kernelspec": {
      "name": "python388jvsc74a57bd086987c614a608662b12694ccf05f899e554dc0d9a6c24d382fe9ced929a6ca9f",
      "display_name": "Python 3.8.8 64-bit ('base': conda)"
    },
    "metadata": {
      "interpreter": {
        "hash": "63fd5069d213b44bf678585dea6b12cceca9941eaf7f819626cde1f2670de90d"
      }
    }
  },
  "cells": [
    {
      "cell_type": "code",
      "metadata": {
        "id": "ggTPechCpbtW"
      },
      "source": [
        "import numpy as np\n",
        "import pandas as pd\n",
        "import matplotlib.pyplot as plt\n",
        "import seaborn as sns\n",
        "from sklearn.impute import SimpleImputer"
      ],
      "execution_count": null,
      "outputs": []
    },
    {
      "cell_type": "code",
      "metadata": {
        "id": "x6bbjm3SpopQ",
        "colab": {
          "base_uri": "https://localhost:8080/",
          "height": 458
        },
        "outputId": "2681edba-6ef4-4be7-e902-a771a79a9a79"
      },
      "source": [
        "data=pd.read_csv('train_titanic.csv')\n",
        "test=pd.read_csv('test_titanic.csv')\n",
        "test_ids = test[\"PassengerId\"]"
      ],
      "execution_count": null,
      "outputs": []
    },
    {
      "cell_type": "code",
      "metadata": {
        "id": "A2Bz4VBqXrxh",
        "colab": {
          "base_uri": "https://localhost:8080/",
          "height": 196
        },
        "outputId": "2eec6bb4-7969-4dc7-c7bb-befa548f8714"
      },
      "source": [
        "data.head()\n",
        "# test.head()"
      ],
      "execution_count": null,
      "outputs": []
    },
    {
      "cell_type": "code",
      "metadata": {
        "id": "J_9uMox03LCK"
      },
      "source": [
        "train_test_data=[data,test]\n",
        "for dataset in train_test_data:\n",
        "  dataset['title']=dataset['Name'].str.extract('([A-Za-z]+)\\.',expand=False)\n",
        "df_train=pd.DataFrame(train_test_data)"
      ],
      "execution_count": null,
      "outputs": []
    },
    {
      "cell_type": "code",
      "metadata": {
        "colab": {
          "base_uri": "https://localhost:8080/"
        },
        "id": "0JCfNi1D3via",
        "outputId": "488c4ba5-d626-4852-a1f2-60cc0dc9fdcd"
      },
      "source": [
        "data['title'].value_counts()"
      ],
      "execution_count": null,
      "outputs": []
    },
    {
      "cell_type": "code",
      "metadata": {
        "id": "nbScMPMLSzMs"
      },
      "source": [
        "# This step will delete all the irrelevant data columns from the set. For e.g. [\"Ticket\",\"Cabin\",\"Name\",\"PassengerId\"]\n",
        "# It will also replace the numerical data with a median value"
      ],
      "execution_count": null,
      "outputs": []
    },
    {
      "cell_type": "code",
      "metadata": {
        "id": "6PqGuKBjr30q"
      },
      "source": [
        "# sns.heatmap(data.isnull(),yticklabels=False,cbar=False,cmap='viridis')"
      ],
      "execution_count": null,
      "outputs": []
    },
    {
      "cell_type": "code",
      "metadata": {
        "id": "gEG1lKhl059c"
      },
      "source": [
        "# def clean(data):\n",
        "#   data=data.drop([\"Ticket\",\"Cabin\",\"Name\",\"PassengerId\"],axis=1)\n",
        "#   cols=[\"SibSp\",\"Parch\",\"Fare\",\"Age\"]\n",
        "#   for i in cols:\n",
        "#     data[i].fillna(data[i].median(),inplace=True)\n",
        "#   data.Embarked.fillna(\"U\",inplace=True)\n",
        "#   return data\n",
        "\n",
        "# data=clean(data)\n",
        "# test=clean(test)"
      ],
      "execution_count": null,
      "outputs": []
    },
    {
      "cell_type": "code",
      "metadata": {
        "id": "5_DwCck3jDRP",
        "colab": {
          "base_uri": "https://localhost:8080/",
          "height": 286
        },
        "outputId": "d253bd2c-a585-46ca-9c2f-80f3c67ae61d"
      },
      "source": [
        "test.describe()"
      ],
      "execution_count": null,
      "outputs": []
    },
    {
      "cell_type": "code",
      "metadata": {
        "colab": {
          "base_uri": "https://localhost:8080/",
          "height": 312
        },
        "id": "0txdQ_Lai3Pf",
        "outputId": "eadf3fad-fafb-40c1-d3c1-30b35ae73cac"
      },
      "source": [
        "test=test.drop(\"Survived\",axis=1)"
      ],
      "execution_count": null,
      "outputs": []
    },
    {
      "cell_type": "code",
      "metadata": {
        "id": "AWbkNB8cA5Rs"
      },
      "source": [
        "data=data.drop([\"Ticket\",\"Cabin\",\"Name\",\"PassengerId\"],axis=1)\n",
        "test=test.drop([\"Ticket\",\"Cabin\",\"Name\",\"PassengerId\"],axis=1)\n",
        "data.Embarked.fillna(\"U\",inplace=True)\n",
        "test.Embarked.fillna(\"U\",inplace=True)"
      ],
      "execution_count": null,
      "outputs": []
    },
    {
      "cell_type": "code",
      "metadata": {
        "id": "MxA2KDDriwZM"
      },
      "source": [],
      "execution_count": null,
      "outputs": []
    },
    {
      "cell_type": "code",
      "metadata": {
        "colab": {
          "base_uri": "https://localhost:8080/"
        },
        "id": "eTwmVvwSBAC5",
        "outputId": "90b01472-b662-464f-c718-7010e10b5b22"
      },
      "source": [
        "test.info()"
      ],
      "execution_count": null,
      "outputs": []
    },
    {
      "cell_type": "code",
      "metadata": {
        "colab": {
          "base_uri": "https://localhost:8080/"
        },
        "id": "-s-hZNnd2Aed",
        "outputId": "19cf24c6-02ff-4c71-b5b5-f0a1187a7c55"
      },
      "source": [
        "data.info()"
      ],
      "execution_count": null,
      "outputs": []
    },
    {
      "cell_type": "code",
      "metadata": {
        "id": "YmHKjAQFBXIn",
        "colab": {
          "base_uri": "https://localhost:8080/",
          "height": 399
        },
        "outputId": "dfb94b35-f2cc-4b8b-9f28-8ddf98fa7e86"
      },
      "source": [
        "from sklearn.impute import SimpleImputer\n",
        "imputer=SimpleImputer(missing_values=np.nan,strategy='mean')\n",
        "imputer.fit(data.iloc[:,[0,1,3,4,5,6]])\n",
        "data.iloc[:,[0,1,3,4,5,6]]=imputer.transform(data.iloc[:,[0,1,3,4,5,6]])\n",
        "\n",
        "imputertest=SimpleImputer(missing_values=np.nan,strategy='mean')\n",
        "imputertest.fit(test.iloc[:,[0,2,3,4,5]])\n",
        "test.iloc[:,[0,2,3,4,5]]=imputertest.transform(test.iloc[:,[0,2,3,4,5]])"
      ],
      "execution_count": null,
      "outputs": []
    },
    {
      "cell_type": "code",
      "metadata": {
        "colab": {
          "base_uri": "https://localhost:8080/"
        },
        "id": "hBSaVT2qHuwe",
        "outputId": "6ba1cf21-0d98-4c8f-fcec-a6bbfb6c845a"
      },
      "source": [
        "(test['Age'].isnull()).sum()"
      ],
      "execution_count": null,
      "outputs": []
    },
    {
      "cell_type": "code",
      "metadata": {
        "colab": {
          "base_uri": "https://localhost:8080/",
          "height": 231
        },
        "id": "TF1ywLpC7y_j",
        "outputId": "71ae181d-3d21-4aaa-bea3-a4da9d1477c8"
      },
      "source": [
        "# This code will change the data from string into numbers. For e.g. male is 1 and female is 0 under Column \"Sex\".\n",
        "\n",
        "# from sklearn import preprocessing\n",
        "# le=preprocessing.LabelEncoder()\n",
        "\n",
        "# cols=[\"Sex\",\"Embarked\"]\n",
        "\n",
        "# for col in cols:\n",
        "#   data[col]=le.fit_transform(data[col])\n",
        "  \n",
        "#   test[col]=le.transform(test[col])\n",
        "#   print(le.classes_)\n",
        "\n",
        "# # data.head(5)\n",
        "# test.head(5)"
      ],
      "execution_count": null,
      "outputs": []
    },
    {
      "cell_type": "code",
      "metadata": {
        "id": "I2ZHCl8Y1T2v",
        "colab": {
          "base_uri": "https://localhost:8080/",
          "height": 208
        },
        "outputId": "b6511a0a-b538-4e83-c9af-6d3a4998b47e"
      },
      "source": [
        "from sklearn.compose import ColumnTransformer\n",
        "from sklearn.preprocessing import OneHotEncoder\n",
        "\n",
        "ct=ColumnTransformer(transformers=[('encoder',OneHotEncoder(),[2])],remainder='passthrough')\n",
        "data=ct.fit_transform(data)"
      ],
      "execution_count": null,
      "outputs": []
    },
    {
      "cell_type": "code",
      "metadata": {
        "colab": {
          "base_uri": "https://localhost:8080/"
        },
        "id": "_gAgDCFu20Ly",
        "outputId": "d043e7ea-af89-42ce-e359-7cf9e9f34627"
      },
      "source": [
        "print(data)"
      ],
      "execution_count": null,
      "outputs": []
    },
    {
      "cell_type": "code",
      "metadata": {
        "id": "jugirPAUU-Sh"
      },
      "source": [
        "### 3. Splitting the training set data into test and train \n",
        " \n",
        "from sklearn.linear_model import LogisticRegression\n",
        "from sklearn.model_selection import train_test_split\n",
        " \n",
        "y=data[\"Survived\"]\n",
        "X=data.drop(\"Survived\",axis=1)\n",
        " \n",
        "X_train, X_val,y_train,y_val=train_test_split(X,y,test_size=0.2,random_state=42)"
      ],
      "execution_count": null,
      "outputs": []
    },
    {
      "cell_type": "code",
      "metadata": {
        "id": "zZtUbtOGaoaa"
      },
      "source": [
        "clf=LogisticRegression(random_state=0,max_iter=1000).fit(X_train,y_train)"
      ],
      "execution_count": null,
      "outputs": []
    },
    {
      "cell_type": "code",
      "metadata": {
        "colab": {
          "base_uri": "https://localhost:8080/"
        },
        "id": "dLH0veHsa4TD",
        "outputId": "2ae8ac9a-8796-492d-cc64-6adbdb0d3775"
      },
      "source": [
        " predictions=clf.predict(X_val)\n",
        " from sklearn.metrics import accuracy_score\n",
        " accuracy_score(y_val,predictions)"
      ],
      "execution_count": null,
      "outputs": []
    },
    {
      "cell_type": "code",
      "metadata": {
        "id": "txJGKPkAb7Ld"
      },
      "source": [
        "submission_preds=clf.predict(test)"
      ],
      "execution_count": null,
      "outputs": []
    },
    {
      "cell_type": "code",
      "metadata": {
        "id": "gjL4CurvcDan"
      },
      "source": [
        "df = pd.DataFrame({\"PassengerId\": test_ids.values,\n",
        "                   \"Survived\": submission_preds,\n",
        "                  })"
      ],
      "execution_count": null,
      "outputs": []
    },
    {
      "cell_type": "code",
      "metadata": {
        "id": "e6bvsS0Ze3Et"
      },
      "source": [
        "df.to_csv(\"submission.csv\", index=False)"
      ],
      "execution_count": null,
      "outputs": []
    },
    {
      "cell_type": "code",
      "metadata": {
        "id": "6lTsUhLSe48s"
      },
      "source": [],
      "execution_count": null,
      "outputs": []
    }
  ]
}